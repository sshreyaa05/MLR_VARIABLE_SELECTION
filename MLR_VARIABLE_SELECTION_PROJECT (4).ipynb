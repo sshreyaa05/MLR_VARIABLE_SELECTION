{
 "cells": [
  {
   "cell_type": "code",
   "execution_count": 1,
   "id": "5278abc8-40f9-4984-805d-f297df406742",
   "metadata": {},
   "outputs": [],
   "source": [
    "## IMPORT NECESSARY LIBRARIES\n",
    "import pandas as pd\n",
    "import numpy as np\n",
    "from sklearn.datasets import load_wine\n",
    "from sklearn.model_selection import train_test_split\n",
    "from sklearn.preprocessing import StandardScaler\n",
    "import statsmodels.api as sm\n",
    "from sklearn import linear_model\n",
    "import matplotlib.pyplot as plt\n"
   ]
  },
  {
   "cell_type": "code",
   "execution_count": 2,
   "id": "468aa71f-dc34-4732-91fa-8828b16b1335",
   "metadata": {},
   "outputs": [
    {
     "data": {
      "text/html": [
       "<div>\n",
       "<style scoped>\n",
       "    .dataframe tbody tr th:only-of-type {\n",
       "        vertical-align: middle;\n",
       "    }\n",
       "\n",
       "    .dataframe tbody tr th {\n",
       "        vertical-align: top;\n",
       "    }\n",
       "\n",
       "    .dataframe thead th {\n",
       "        text-align: right;\n",
       "    }\n",
       "</style>\n",
       "<table border=\"1\" class=\"dataframe\">\n",
       "  <thead>\n",
       "    <tr style=\"text-align: right;\">\n",
       "      <th></th>\n",
       "      <th>alcohol</th>\n",
       "      <th>malic_acid</th>\n",
       "      <th>ash</th>\n",
       "      <th>alcalinity_of_ash</th>\n",
       "      <th>magnesium</th>\n",
       "      <th>total_phenols</th>\n",
       "      <th>flavanoids</th>\n",
       "      <th>nonflavanoid_phenols</th>\n",
       "      <th>proanthocyanins</th>\n",
       "      <th>color_intensity</th>\n",
       "      <th>hue</th>\n",
       "      <th>od280/od315_of_diluted_wines</th>\n",
       "      <th>proline</th>\n",
       "      <th>target</th>\n",
       "    </tr>\n",
       "  </thead>\n",
       "  <tbody>\n",
       "    <tr>\n",
       "      <th>0</th>\n",
       "      <td>14.23</td>\n",
       "      <td>1.71</td>\n",
       "      <td>2.43</td>\n",
       "      <td>15.6</td>\n",
       "      <td>127.0</td>\n",
       "      <td>2.80</td>\n",
       "      <td>3.06</td>\n",
       "      <td>0.28</td>\n",
       "      <td>2.29</td>\n",
       "      <td>5.64</td>\n",
       "      <td>1.04</td>\n",
       "      <td>3.92</td>\n",
       "      <td>1065.0</td>\n",
       "      <td>0</td>\n",
       "    </tr>\n",
       "    <tr>\n",
       "      <th>1</th>\n",
       "      <td>13.20</td>\n",
       "      <td>1.78</td>\n",
       "      <td>2.14</td>\n",
       "      <td>11.2</td>\n",
       "      <td>100.0</td>\n",
       "      <td>2.65</td>\n",
       "      <td>2.76</td>\n",
       "      <td>0.26</td>\n",
       "      <td>1.28</td>\n",
       "      <td>4.38</td>\n",
       "      <td>1.05</td>\n",
       "      <td>3.40</td>\n",
       "      <td>1050.0</td>\n",
       "      <td>0</td>\n",
       "    </tr>\n",
       "    <tr>\n",
       "      <th>2</th>\n",
       "      <td>13.16</td>\n",
       "      <td>2.36</td>\n",
       "      <td>2.67</td>\n",
       "      <td>18.6</td>\n",
       "      <td>101.0</td>\n",
       "      <td>2.80</td>\n",
       "      <td>3.24</td>\n",
       "      <td>0.30</td>\n",
       "      <td>2.81</td>\n",
       "      <td>5.68</td>\n",
       "      <td>1.03</td>\n",
       "      <td>3.17</td>\n",
       "      <td>1185.0</td>\n",
       "      <td>0</td>\n",
       "    </tr>\n",
       "    <tr>\n",
       "      <th>3</th>\n",
       "      <td>14.37</td>\n",
       "      <td>1.95</td>\n",
       "      <td>2.50</td>\n",
       "      <td>16.8</td>\n",
       "      <td>113.0</td>\n",
       "      <td>3.85</td>\n",
       "      <td>3.49</td>\n",
       "      <td>0.24</td>\n",
       "      <td>2.18</td>\n",
       "      <td>7.80</td>\n",
       "      <td>0.86</td>\n",
       "      <td>3.45</td>\n",
       "      <td>1480.0</td>\n",
       "      <td>0</td>\n",
       "    </tr>\n",
       "    <tr>\n",
       "      <th>4</th>\n",
       "      <td>13.24</td>\n",
       "      <td>2.59</td>\n",
       "      <td>2.87</td>\n",
       "      <td>21.0</td>\n",
       "      <td>118.0</td>\n",
       "      <td>2.80</td>\n",
       "      <td>2.69</td>\n",
       "      <td>0.39</td>\n",
       "      <td>1.82</td>\n",
       "      <td>4.32</td>\n",
       "      <td>1.04</td>\n",
       "      <td>2.93</td>\n",
       "      <td>735.0</td>\n",
       "      <td>0</td>\n",
       "    </tr>\n",
       "  </tbody>\n",
       "</table>\n",
       "</div>"
      ],
      "text/plain": [
       "   alcohol  malic_acid   ash  alcalinity_of_ash  magnesium  total_phenols  \\\n",
       "0    14.23        1.71  2.43               15.6      127.0           2.80   \n",
       "1    13.20        1.78  2.14               11.2      100.0           2.65   \n",
       "2    13.16        2.36  2.67               18.6      101.0           2.80   \n",
       "3    14.37        1.95  2.50               16.8      113.0           3.85   \n",
       "4    13.24        2.59  2.87               21.0      118.0           2.80   \n",
       "\n",
       "   flavanoids  nonflavanoid_phenols  proanthocyanins  color_intensity   hue  \\\n",
       "0        3.06                  0.28             2.29             5.64  1.04   \n",
       "1        2.76                  0.26             1.28             4.38  1.05   \n",
       "2        3.24                  0.30             2.81             5.68  1.03   \n",
       "3        3.49                  0.24             2.18             7.80  0.86   \n",
       "4        2.69                  0.39             1.82             4.32  1.04   \n",
       "\n",
       "   od280/od315_of_diluted_wines  proline  target  \n",
       "0                          3.92   1065.0       0  \n",
       "1                          3.40   1050.0       0  \n",
       "2                          3.17   1185.0       0  \n",
       "3                          3.45   1480.0       0  \n",
       "4                          2.93    735.0       0  "
      ]
     },
     "execution_count": 2,
     "metadata": {},
     "output_type": "execute_result"
    }
   ],
   "source": [
    "## LOADING THE DATASET AND CONVERTING INTO DATAFRAME\n",
    "data = load_wine()\n",
    "df = pd.DataFrame(data.data, columns=data.feature_names)\n",
    "df['target'] = data.target\n",
    "df.head()\n"
   ]
  },
  {
   "cell_type": "markdown",
   "id": "6675cdbe-cf1d-41bc-84a8-ba672dae1a50",
   "metadata": {},
   "source": [
    "#### 1. RIDGE TRACE AND ESTIMATING RIDGE PARAMETER"
   ]
  },
  {
   "cell_type": "code",
   "execution_count": 3,
   "id": "d9577aec-6c35-4c8e-b6ea-918a3f7ab3b8",
   "metadata": {},
   "outputs": [],
   "source": [
    "#### SEPARATING INTO FEATURES AND TARGET VARIABLE\n",
    "X = df.iloc[:, 0:11]\n",
    "y = df['target']\n"
   ]
  },
  {
   "cell_type": "code",
   "execution_count": 4,
   "id": "7b58bb64-5047-4a6a-8867-86c193e43c73",
   "metadata": {},
   "outputs": [],
   "source": [
    "X = np.array(X)\n",
    "n_alphas = 25\n",
    "alphas = np.logspace(0, 1, 25)/10"
   ]
  },
  {
   "cell_type": "code",
   "execution_count": 5,
   "id": "09413a24-27ca-430b-bcda-9537f7b31f52",
   "metadata": {},
   "outputs": [],
   "source": [
    "coefs = []\n",
    "for a in alphas:\n",
    "    model = linear_model.Ridge(alpha = a , fit_intercept = False)\n",
    "    model.fit(X, y)\n",
    "    coefs.append(model.coef_)\n",
    "    "
   ]
  },
  {
   "cell_type": "code",
   "execution_count": 6,
   "id": "6a4cd6cd-e463-4faa-ad14-9d50fba6e280",
   "metadata": {},
   "outputs": [
    {
     "data": {
      "text/plain": [
       "array([[ 0.03161817,  0.03373427, -0.39397765,  0.09236963,  0.00101956,\n",
       "         0.10204866, -0.54042289,  0.2705114 ,  0.05786413,  0.04845456,\n",
       "        -0.10643186],\n",
       "       [ 0.03160091,  0.03376142, -0.39329395,  0.09235673,  0.00101438,\n",
       "         0.10184772, -0.54043594,  0.26885561,  0.05786922,  0.04846732,\n",
       "        -0.10609395],\n",
       "       [ 0.0315819 ,  0.03379102, -0.39254668,  0.09234255,  0.00100874,\n",
       "         0.10162649, -0.5404481 ,  0.26705681,  0.05787426,  0.04848123,\n",
       "        -0.10572656],\n",
       "       [ 0.03156097,  0.03382328, -0.39173044,  0.09232697,  0.0010026 ,\n",
       "         0.10138292, -0.54045886,  0.26510505,  0.05787914,  0.04849636,\n",
       "        -0.10532756],\n",
       "       [ 0.03153793,  0.03385839, -0.39083949,  0.09230986,  0.00099592,\n",
       "         0.10111477, -0.54046762,  0.26299013,  0.05788374,  0.04851283,\n",
       "        -0.10489477],\n",
       "       [ 0.03151257,  0.03389657, -0.3898677 ,  0.09229105,  0.00098867,\n",
       "         0.10081957, -0.5404736 ,  0.26070172,  0.05788787,  0.04853071,\n",
       "        -0.10442595],\n",
       "       [ 0.03148465,  0.03393805, -0.38880859,  0.09227041,  0.0009808 ,\n",
       "         0.1004946 , -0.54047588,  0.25822945,  0.05789132,  0.04855013,\n",
       "        -0.10391882],\n",
       "       [ 0.03145392,  0.03398307, -0.38765529,  0.09224774,  0.00097228,\n",
       "         0.10013689, -0.54047333,  0.25556306,  0.05789381,  0.04857117,\n",
       "        -0.10337111],\n",
       "       [ 0.03142009,  0.03403186, -0.38640058,  0.09222287,  0.00096305,\n",
       "         0.09974319, -0.5404646 ,  0.25269254,  0.05789503,  0.04859395,\n",
       "        -0.10278055],\n",
       "       [ 0.03138287,  0.03408469, -0.38503689,  0.09219558,  0.00095309,\n",
       "         0.09930991, -0.54044807,  0.24960835,  0.05789456,  0.04861858,\n",
       "        -0.10214492],\n",
       "       [ 0.03134191,  0.03414181, -0.3835563 ,  0.09216566,  0.00094235,\n",
       "         0.09883315, -0.54042182,  0.24630157,  0.05789193,  0.04864518,\n",
       "        -0.10146209],\n",
       "       [ 0.03129685,  0.0342035 , -0.38195057,  0.09213287,  0.00093077,\n",
       "         0.09830863, -0.54038359,  0.24276417,  0.05788657,  0.04867387,\n",
       "        -0.10073005],\n",
       "       [ 0.03124728,  0.03427002, -0.38021117,  0.09209696,  0.00091833,\n",
       "         0.09773171, -0.54033071,  0.23898928,  0.05787778,  0.04870475,\n",
       "        -0.09994697],\n",
       "       [ 0.03119278,  0.03434164, -0.37832935,  0.09205765,  0.00090499,\n",
       "         0.0970973 , -0.5402601 ,  0.2349714 ,  0.05786475,  0.04873795,\n",
       "        -0.09911121],\n",
       "       [ 0.03113286,  0.03441866, -0.3762961 ,  0.09201465,  0.0008907 ,\n",
       "         0.0963999 , -0.54016815,  0.23070674,  0.05784652,  0.04877358,\n",
       "        -0.0982214 ],\n",
       "       [ 0.031067  ,  0.03450135, -0.37410229,  0.09196766,  0.00087543,\n",
       "         0.09563353, -0.54005074,  0.22619347,  0.05782196,  0.04881177,\n",
       "        -0.0972765 ],\n",
       "       [ 0.03099465,  0.03459   , -0.37173867,  0.09191635,  0.00085914,\n",
       "         0.09479173, -0.53990313,  0.22143201,  0.05778976,  0.04885264,\n",
       "        -0.0962758 ],\n",
       "       [ 0.03091521,  0.03468489, -0.36919596,  0.09186039,  0.00084183,\n",
       "         0.09386755, -0.53971995,  0.21642532,  0.0577484 ,  0.04889629,\n",
       "        -0.09521901],\n",
       "       [ 0.03082802,  0.03478632, -0.36646492,  0.09179943,  0.00082345,\n",
       "         0.09285349, -0.53949511,  0.21117909,  0.05769611,  0.04894287,\n",
       "        -0.09410627],\n",
       "       [ 0.03073239,  0.03489458, -0.36353641,  0.09173309,  0.00080399,\n",
       "         0.09174158, -0.5392218 ,  0.205702  ,  0.05763088,  0.04899248,\n",
       "        -0.09293821],\n",
       "       [ 0.03062757,  0.03500997, -0.36040149,  0.09166102,  0.00078345,\n",
       "         0.09052328, -0.53889242,  0.20000581,  0.05755038,  0.04904527,\n",
       "        -0.09171593],\n",
       "       [ 0.03051276,  0.03513282, -0.35705153,  0.09158285,  0.00076182,\n",
       "         0.08918956, -0.53849856,  0.19410549,  0.057452  ,  0.04910135,\n",
       "        -0.09044105],\n",
       "       [ 0.03038711,  0.03526346, -0.35347826,  0.09149821,  0.0007391 ,\n",
       "         0.08773091, -0.53803097,  0.18801915,  0.05733276,  0.04916089,\n",
       "        -0.0891157 ],\n",
       "       [ 0.03024974,  0.03540224, -0.34967391,  0.09140674,  0.00071531,\n",
       "         0.08613737, -0.53747959,  0.18176804,  0.0571893 ,  0.04922404,\n",
       "        -0.08774247],\n",
       "       [ 0.03009971,  0.03554956, -0.3456313 ,  0.09130811,  0.00069046,\n",
       "         0.08439856, -0.53683351,  0.17537628,  0.05701788,  0.04929098,\n",
       "        -0.08632441]])"
      ]
     },
     "execution_count": 6,
     "metadata": {},
     "output_type": "execute_result"
    }
   ],
   "source": [
    "coefs = np.array(coefs)\n",
    "coefs = coefs.reshape((n_alphas, 11))\n",
    "coefs"
   ]
  },
  {
   "cell_type": "code",
   "execution_count": 7,
   "id": "91539a2f-9052-4e63-8288-14e79ef484b7",
   "metadata": {},
   "outputs": [
    {
     "data": {
      "image/png": "[encoded data removed]",
      "text/plain": [
       "<Figure size 640x480 with 1 Axes>"
      ]
     },
     "metadata": {},
     "output_type": "display_data"
    }
   ],
   "source": [
    "plot = plt.gca()\n",
    "plot.plot(alphas, coefs)\n",
    "plt.xlabel(\"K_VALUES\")\n",
    "plt.ylabel(\"ESTIMATED COEFFICIENTS\")\n",
    "plt.title(\"RIDGE COEFFICIENTS AS A FUNCTION OF THE REGULARIZATION\")\n",
    "plt.show()"
   ]
  },
  {
   "cell_type": "code",
   "execution_count": 8,
   "id": "69fe9ea1-2310-4b11-87b8-50ec3e8009be",
   "metadata": {},
   "outputs": [
    {
     "name": "stdout",
     "output_type": "stream",
     "text": [
      "ESTIMATED RIDGE PARAMETER IS: 4.290739944380084\n"
     ]
    }
   ],
   "source": [
    "#### ESTIMATING THE RIDGE PARAMETER\n",
    "X = df.iloc[:, 0:8].values \n",
    "y = df['target'].values.reshape(-1, 1)  \n",
    "p = 8 \n",
    "n = 178  \n",
    "ones = np.ones((n, 1))  \n",
    "\n",
    "X = np.concatenate([ones, X], axis=1)\n",
    "\n",
    "\n",
    "ytry = np.dot(np.transpose(y), y)  \n",
    "XtrX = np.dot(np.transpose(X), X)  \n",
    "Xtry = np.dot(np.transpose(X), y) \n",
    "\n",
    "\n",
    "beta_hat = np.dot(np.linalg.inv(XtrX), Xtry)\n",
    "\n",
    "\n",
    "ssres = ytry - np.dot(np.transpose(beta_hat), Xtry)  \n",
    "s2_hat = ssres[0, 0] / p \n",
    "\n",
    "\n",
    "ridge_param = p * s2_hat / np.dot(np.transpose(beta_hat), beta_hat)[0, 0]\n",
    "\n",
    "\n",
    "print(\"ESTIMATED RIDGE PARAMETER IS:\", ridge_param)\n"
   ]
  },
  {
   "cell_type": "code",
   "execution_count": 9,
   "id": "0dd547f0-d33b-4a20-bc25-ae1a77794fcd",
   "metadata": {},
   "outputs": [
    {
     "name": "stdout",
     "output_type": "stream",
     "text": [
      "SIGMA_SQUARE_HAT/ERROR VARIANCE: 2.7467928395821986\n",
      "\n",
      "MALLOW'S CP FOR ALCOHOL(X1): -139.4628541495743\n"
     ]
    }
   ],
   "source": [
    "print(\"SIGMA_SQUARE_HAT/ERROR VARIANCE:\", s2_hat)\n",
    "X1 = df.iloc[:, 0].values.reshape(-1, 1)\n",
    "y = df['target'].values.reshape(-1, 1)  \n",
    "p = 2\n",
    "n = 178  \n",
    "ones = np.ones((n, 1))  \n",
    "\n",
    "X1 = np.concatenate([ones, X1], axis=1)\n",
    "\n",
    "\n",
    "ytry = np.dot(np.transpose(y), y)  \n",
    "X1trX1 = np.dot(np.transpose(X1), X1)  \n",
    "X1try = np.dot(np.transpose(X1), y) \n",
    "\n",
    "\n",
    "beta_hat = np.dot(np.linalg.inv(X1trX1), X1try)\n",
    "\n",
    "\n",
    "ssres_X1  = ytry - np.dot(np.transpose(beta_hat), X1try)  \n",
    "mallows_cp = (ssres_X1[0, 0] / s2_hat)-n+2*p\n",
    "print(\"\\nMALLOW'S CP FOR ALCOHOL(X1):\", mallows_cp)\n",
    "\n"
   ]
  },
  {
   "cell_type": "markdown",
   "id": "7404cad3-4457-44ca-ae88-e8fa739836cf",
   "metadata": {},
   "source": [
    "#### 3. VARIABLE SELECTION"
   ]
  },
  {
   "cell_type": "code",
   "execution_count": 10,
   "id": "f1266d62-c822-4cb2-8c04-3bb7448b0475",
   "metadata": {},
   "outputs": [
    {
     "data": {
      "text/html": [
       "<div>\n",
       "<style scoped>\n",
       "    .dataframe tbody tr th:only-of-type {\n",
       "        vertical-align: middle;\n",
       "    }\n",
       "\n",
       "    .dataframe tbody tr th {\n",
       "        vertical-align: top;\n",
       "    }\n",
       "\n",
       "    .dataframe thead th {\n",
       "        text-align: right;\n",
       "    }\n",
       "</style>\n",
       "<table border=\"1\" class=\"dataframe\">\n",
       "  <thead>\n",
       "    <tr style=\"text-align: right;\">\n",
       "      <th></th>\n",
       "      <th>alcohol</th>\n",
       "      <th>color_intensity</th>\n",
       "      <th>hue</th>\n",
       "      <th>target</th>\n",
       "    </tr>\n",
       "  </thead>\n",
       "  <tbody>\n",
       "    <tr>\n",
       "      <th>0</th>\n",
       "      <td>14.23</td>\n",
       "      <td>5.64</td>\n",
       "      <td>1.04</td>\n",
       "      <td>0</td>\n",
       "    </tr>\n",
       "    <tr>\n",
       "      <th>1</th>\n",
       "      <td>13.20</td>\n",
       "      <td>4.38</td>\n",
       "      <td>1.05</td>\n",
       "      <td>0</td>\n",
       "    </tr>\n",
       "    <tr>\n",
       "      <th>2</th>\n",
       "      <td>13.16</td>\n",
       "      <td>5.68</td>\n",
       "      <td>1.03</td>\n",
       "      <td>0</td>\n",
       "    </tr>\n",
       "    <tr>\n",
       "      <th>3</th>\n",
       "      <td>14.37</td>\n",
       "      <td>7.80</td>\n",
       "      <td>0.86</td>\n",
       "      <td>0</td>\n",
       "    </tr>\n",
       "    <tr>\n",
       "      <th>4</th>\n",
       "      <td>13.24</td>\n",
       "      <td>4.32</td>\n",
       "      <td>1.04</td>\n",
       "      <td>0</td>\n",
       "    </tr>\n",
       "  </tbody>\n",
       "</table>\n",
       "</div>"
      ],
      "text/plain": [
       "   alcohol  color_intensity   hue  target\n",
       "0    14.23             5.64  1.04       0\n",
       "1    13.20             4.38  1.05       0\n",
       "2    13.16             5.68  1.03       0\n",
       "3    14.37             7.80  0.86       0\n",
       "4    13.24             4.32  1.04       0"
      ]
     },
     "execution_count": 10,
     "metadata": {},
     "output_type": "execute_result"
    }
   ],
   "source": [
    "## CREATING A DATAFRAME FOR FEATURE VARIABLES OR REGRESSORS OR PREDICTORS\n",
    "\n",
    "df = df[['alcohol', 'color_intensity', 'hue']] ### here, we have selected only 3 features\n",
    "\n",
    "## ADDING THE TARGET COLUMN TO THE DATAFRAME\n",
    "df['target'] = data.target\n",
    "\n",
    "## DISPLAYING THE  FIRST 5 ROWS OF THE ENTIRE DATAFRAME CREATED ABOVE\n",
    "df.head()"
   ]
  },
  {
   "cell_type": "code",
   "execution_count": 11,
   "id": "23203c76-e652-4e08-a60e-f882efa21f9e",
   "metadata": {},
   "outputs": [
    {
     "data": {
      "text/html": [
       "<div>\n",
       "<style scoped>\n",
       "    .dataframe tbody tr th:only-of-type {\n",
       "        vertical-align: middle;\n",
       "    }\n",
       "\n",
       "    .dataframe tbody tr th {\n",
       "        vertical-align: top;\n",
       "    }\n",
       "\n",
       "    .dataframe thead th {\n",
       "        text-align: right;\n",
       "    }\n",
       "</style>\n",
       "<table border=\"1\" class=\"dataframe\">\n",
       "  <thead>\n",
       "    <tr style=\"text-align: right;\">\n",
       "      <th></th>\n",
       "      <th>alcohol</th>\n",
       "      <th>color_intensity</th>\n",
       "      <th>hue</th>\n",
       "      <th>target</th>\n",
       "    </tr>\n",
       "  </thead>\n",
       "  <tbody>\n",
       "    <tr>\n",
       "      <th>alcohol</th>\n",
       "      <td>1.000000</td>\n",
       "      <td>0.546364</td>\n",
       "      <td>-0.071747</td>\n",
       "      <td>-0.328222</td>\n",
       "    </tr>\n",
       "    <tr>\n",
       "      <th>color_intensity</th>\n",
       "      <td>0.546364</td>\n",
       "      <td>1.000000</td>\n",
       "      <td>-0.521813</td>\n",
       "      <td>0.265668</td>\n",
       "    </tr>\n",
       "    <tr>\n",
       "      <th>hue</th>\n",
       "      <td>-0.071747</td>\n",
       "      <td>-0.521813</td>\n",
       "      <td>1.000000</td>\n",
       "      <td>-0.617369</td>\n",
       "    </tr>\n",
       "    <tr>\n",
       "      <th>target</th>\n",
       "      <td>-0.328222</td>\n",
       "      <td>0.265668</td>\n",
       "      <td>-0.617369</td>\n",
       "      <td>1.000000</td>\n",
       "    </tr>\n",
       "  </tbody>\n",
       "</table>\n",
       "</div>"
      ],
      "text/plain": [
       "                  alcohol  color_intensity       hue    target\n",
       "alcohol          1.000000         0.546364 -0.071747 -0.328222\n",
       "color_intensity  0.546364         1.000000 -0.521813  0.265668\n",
       "hue             -0.071747        -0.521813  1.000000 -0.617369\n",
       "target          -0.328222         0.265668 -0.617369  1.000000"
      ]
     },
     "execution_count": 11,
     "metadata": {},
     "output_type": "execute_result"
    }
   ],
   "source": [
    "## DISPLAYING THE CORRELATION MATRIX BEFORE PERFORMING STEPWISE REGRESSION\n",
    "df.corr()"
   ]
  },
  {
   "cell_type": "markdown",
   "id": "d1e82be7-b49c-4482-ba23-67135ba7b6ca",
   "metadata": {},
   "source": [
    "#### Here from the above correlation matrix we found that the correlation between the target and 'color_intensity' \n",
    "#### feature is maximum, therefore, we consider it as the candidate regressor and try the 1st model."
   ]
  },
  {
   "cell_type": "markdown",
   "id": "032cbbbf-8ae7-41f6-bf79-0cf9158aa3de",
   "metadata": {},
   "source": [
    "##### PERFORMING VARIABLE SELECTION USING STEPWISE REGRESSION IN 3 DIFFERENT APPROACHES BELOW CONSIDERING \n",
    "##### THE THRESHOLD TO RETAIN A REGRESSOR IN THE EXISTING MODEL (T_IN) = 0.10.\n"
   ]
  },
  {
   "cell_type": "markdown",
   "id": "3aa0d420-c644-4026-b358-930fe89688b9",
   "metadata": {},
   "source": [
    "### A. FORWARD STEP-WISE REGRESSION "
   ]
  },
  {
   "cell_type": "code",
   "execution_count": 12,
   "id": "758f7346-5dc6-448f-8f4a-0c5121305e90",
   "metadata": {},
   "outputs": [
    {
     "data": {
      "text/html": [
       "<div>\n",
       "<style scoped>\n",
       "    .dataframe tbody tr th:only-of-type {\n",
       "        vertical-align: middle;\n",
       "    }\n",
       "\n",
       "    .dataframe tbody tr th {\n",
       "        vertical-align: top;\n",
       "    }\n",
       "\n",
       "    .dataframe thead th {\n",
       "        text-align: right;\n",
       "    }\n",
       "</style>\n",
       "<table border=\"1\" class=\"dataframe\">\n",
       "  <thead>\n",
       "    <tr style=\"text-align: right;\">\n",
       "      <th></th>\n",
       "      <th>const</th>\n",
       "      <th>color_intensity</th>\n",
       "    </tr>\n",
       "  </thead>\n",
       "  <tbody>\n",
       "    <tr>\n",
       "      <th>T-STATISTIC</th>\n",
       "      <td>3.619017</td>\n",
       "      <td>3.655853</td>\n",
       "    </tr>\n",
       "    <tr>\n",
       "      <th>P-VALUES</th>\n",
       "      <td>0.000386</td>\n",
       "      <td>0.000338</td>\n",
       "    </tr>\n",
       "  </tbody>\n",
       "</table>\n",
       "</div>"
      ],
      "text/plain": [
       "                const  color_intensity\n",
       "T-STATISTIC  3.619017         3.655853\n",
       "P-VALUES     0.000386         0.000338"
      ]
     },
     "execution_count": 12,
     "metadata": {},
     "output_type": "execute_result"
    }
   ],
   "source": [
    "## CONSIDERING COLOR_INTENSITY AS THE REGRESSOR AND Y AS THE TARGET VARIABLE\n",
    "Y = df.iloc[:, 3]\n",
    "X = df.iloc[:, 1]\n",
    "\n",
    "## FITTING THE MODEL\n",
    "X = sm.add_constant(X)\n",
    "model1 = sm.OLS(Y, X).fit()\n",
    "\n",
    "\n",
    "## CREATING A DATAFRAME DISPLAYING THE T-STATISTIC VALUE AND P-VALUES OF THE REGRESSOR USED\n",
    "df1 = pd.DataFrame([model1.tvalues, model1.pvalues])\n",
    "df1.index = ['T-STATISTIC', 'P-VALUES']\n",
    "df1"
   ]
  },
  {
   "cell_type": "markdown",
   "id": "d83a1d42-ac6a-4a49-82c3-090170d3ab89",
   "metadata": {},
   "source": [
    "#### Here we add or retain the feature 'color_intensity' as the regressor in the model as the P-value is \n",
    "#### very very small as compared to the t_in value = 0.10 and T-statistic value is larger than t_in value."
   ]
  },
  {
   "cell_type": "code",
   "execution_count": 13,
   "id": "f558d775-8c06-4f3f-ae95-6ba3df786c93",
   "metadata": {},
   "outputs": [],
   "source": [
    "## NOW WE SHALL COMPUTE THE PARTIAL CORRELATION BETWEEN THE RESIDUES OF THIS MODEL CREATED ABOVE AND ALL THE OTHER MODELS WHERE WE SHALL REGRESS EACH\n",
    "## OF THE REMAINING REGRESSORS ON THE EXISTING MODEL SO THAT WE CAN EXPLORE ALL THE RESGRESSORS WHICH WE HAVE SELECTED IN THE DATAFRAME."
   ]
  },
  {
   "cell_type": "code",
   "execution_count": 14,
   "id": "79076c4f-7fff-4b10-a3ec-82a84d732ade",
   "metadata": {},
   "outputs": [
    {
     "data": {
      "text/plain": [
       "0     -0.989885\n",
       "1     -0.877977\n",
       "2     -0.993438\n",
       "3     -1.181729\n",
       "4     -0.872648\n",
       "         ...   \n",
       "173    0.827153\n",
       "174    0.862680\n",
       "175    0.605112\n",
       "176    0.685047\n",
       "177    0.693928\n",
       "Length: 178, dtype: float64"
      ]
     },
     "execution_count": 14,
     "metadata": {},
     "output_type": "execute_result"
    }
   ],
   "source": [
    "## PREDICTIONS FROM THE FITTED MODEL1\n",
    "y_pr1 = model1.predict(X)\n",
    "\n",
    "## RESIDUES OF THE MODEL_1\n",
    "res_1 = Y - y_pr1\n",
    "res_1\n"
   ]
  },
  {
   "cell_type": "code",
   "execution_count": 15,
   "id": "216afd89-570f-4c9f-a7b6-251a269de3ec",
   "metadata": {},
   "outputs": [
    {
     "name": "stdout",
     "output_type": "stream",
     "text": [
      "0      1.118046\n",
      "1      0.329120\n",
      "2      0.040393\n",
      "3      0.844778\n",
      "4      0.380599\n",
      "         ...   \n",
      "173    0.203911\n",
      "174   -0.029558\n",
      "175   -0.714409\n",
      "176   -0.642214\n",
      "177    0.336919\n",
      "Length: 178, dtype: float64\n"
     ]
    }
   ],
   "source": [
    "## TREATING  ALCOHOL AS TARGET AND REGRESSING IT ON THE EXISTING MODEL_1\n",
    "X_1 = df.iloc[:, 0] ## treating alcohol as the target variable\n",
    "X = df.iloc[:, 1]   ## treating color_intensity as the regressor variable\n",
    "\n",
    "## REGRESSING THE MODEL\n",
    "X = sm.add_constant(X)\n",
    "model_2 = sm.OLS(X_1, X).fit()\n",
    "\n",
    "## PREDICTIONS FROM THE FITTED MODEL_2\n",
    "X_1_pr = model_2.predict(X)\n",
    "\n",
    "## RESIDUES OF THIS MODEL\n",
    "res_2 = X_1 - X_1_pr\n",
    "print(res_2)"
   ]
  },
  {
   "cell_type": "code",
   "execution_count": 16,
   "id": "f210c86a-be34-425c-b113-8cef95ce4e79",
   "metadata": {},
   "outputs": [
    {
     "data": {
      "text/plain": [
       "array([[ 1.        , -0.58625684],\n",
       "       [-0.58625684,  1.        ]])"
      ]
     },
     "execution_count": 16,
     "metadata": {},
     "output_type": "execute_result"
    }
   ],
   "source": [
    "## PARTIAL CORRELATION BETWEEN THE 2 SETS OF RESIDUES FROM THE ABOVE CREATED MODEL1 AND MODEL_2\n",
    "pc_1 = np.corrcoef(res_1, res_2)\n",
    "pc_1"
   ]
  },
  {
   "cell_type": "code",
   "execution_count": 17,
   "id": "8b1e38eb-0587-4692-8464-3cf4bed83984",
   "metadata": {},
   "outputs": [
    {
     "name": "stdout",
     "output_type": "stream",
     "text": [
      "0      0.112489\n",
      "1      0.057664\n",
      "2      0.104547\n",
      "3      0.043617\n",
      "4      0.044577\n",
      "         ...   \n",
      "173   -0.181528\n",
      "174   -0.142107\n",
      "175   -0.102907\n",
      "176   -0.139211\n",
      "177   -0.134356\n",
      "Length: 178, dtype: float64\n"
     ]
    }
   ],
   "source": [
    "## REGRESSING THE HUE ON THE EXISTING MODEL1\n",
    "X_3 = df.iloc[:, 2] ## treating hue as the target variable\n",
    "X = df.iloc[:, 1]   ## treating color_intensity as the regressor variable\n",
    "\n",
    "## REGRESSING THE MODEL\n",
    "X = sm.add_constant(X)\n",
    "model_3 = sm.OLS(X_3, X).fit()\n",
    "\n",
    "## PREDICTIONS FROM THE FITTED MODEL_2\n",
    "X_3_pr = model_3.predict(X)\n",
    "\n",
    "## RESIDUES OF THIS MODEL\n",
    "res_3 = X_3 - X_3_pr\n",
    "print(res_3)\n"
   ]
  },
  {
   "cell_type": "code",
   "execution_count": 18,
   "id": "d0b584a0-1ff2-4434-a199-2fab2d67e78d",
   "metadata": {},
   "outputs": [
    {
     "data": {
      "text/plain": [
       "array([[ 1.        , -0.58212252],\n",
       "       [-0.58212252,  1.        ]])"
      ]
     },
     "execution_count": 18,
     "metadata": {},
     "output_type": "execute_result"
    }
   ],
   "source": [
    "## PARTIAL CORRELATION BETWEEN THE 2 SETS OF RESIDUES FROM THE ABOVE CREATED MODEL1 AND MODEL_3\n",
    "pc_1 = np.corrcoef(res_1, res_3)\n",
    "pc_1"
   ]
  },
  {
   "cell_type": "markdown",
   "id": "76314d6b-2022-4591-bb81-b5f924df5d14",
   "metadata": {},
   "source": [
    "#### Here, we have maximum partial correlation value is -0.5862, between res_1 and res_2, therefore, we add alcohol\n",
    "#### in the existing model, that is model_1."
   ]
  },
  {
   "cell_type": "code",
   "execution_count": 19,
   "id": "125ea9a8-7fab-42cf-b016-6aa0263323f3",
   "metadata": {},
   "outputs": [
    {
     "data": {
      "text/html": [
       "<div>\n",
       "<style scoped>\n",
       "    .dataframe tbody tr th:only-of-type {\n",
       "        vertical-align: middle;\n",
       "    }\n",
       "\n",
       "    .dataframe tbody tr th {\n",
       "        vertical-align: top;\n",
       "    }\n",
       "\n",
       "    .dataframe thead th {\n",
       "        text-align: right;\n",
       "    }\n",
       "</style>\n",
       "<table border=\"1\" class=\"dataframe\">\n",
       "  <thead>\n",
       "    <tr style=\"text-align: right;\">\n",
       "      <th></th>\n",
       "      <th>const</th>\n",
       "      <th>alcohol</th>\n",
       "      <th>color_intensity</th>\n",
       "    </tr>\n",
       "  </thead>\n",
       "  <tbody>\n",
       "    <tr>\n",
       "      <th>T-STATISTIC</th>\n",
       "      <td>1.008475e+01</td>\n",
       "      <td>-9.573148e+00</td>\n",
       "      <td>8.999275e+00</td>\n",
       "    </tr>\n",
       "    <tr>\n",
       "      <th>P-VALUES</th>\n",
       "      <td>3.826021e-19</td>\n",
       "      <td>1.008731e-17</td>\n",
       "      <td>3.726674e-16</td>\n",
       "    </tr>\n",
       "  </tbody>\n",
       "</table>\n",
       "</div>"
      ],
      "text/plain": [
       "                    const       alcohol  color_intensity\n",
       "T-STATISTIC  1.008475e+01 -9.573148e+00     8.999275e+00\n",
       "P-VALUES     3.826021e-19  1.008731e-17     3.726674e-16"
      ]
     },
     "execution_count": 19,
     "metadata": {},
     "output_type": "execute_result"
    }
   ],
   "source": [
    "## BUILDING THE MODEL INCLUDING THE ALCOHOL IN THE MODEL_1\n",
    "Y = df.iloc[:, 3]\n",
    "X = df.iloc[:, [0,1]]\n",
    "\n",
    "## ## FITTING THE MODEL\n",
    "X = sm.add_constant(X)\n",
    "model4 = sm.OLS(Y, X).fit()\n",
    "\n",
    "\n",
    "## CREATING A DATAFRAME DISPLAYING THE T-STATISTIC VALUE AND P-VALUES OF THE REGRESSOR USED\n",
    "df2 = pd.DataFrame([model4.tvalues, model4.pvalues])\n",
    "df2.index = ['T-STATISTIC', 'P-VALUES']\n",
    "df2"
   ]
  },
  {
   "cell_type": "markdown",
   "id": "6abe4940-a556-4455-b998-32352179a628",
   "metadata": {},
   "source": [
    "#### Here the p-value is much lesser than t_in value = 0.10, therefore, we retain alcohol in this model4."
   ]
  },
  {
   "cell_type": "markdown",
   "id": "5a01b9e6-cfc9-45c5-921c-810ff073b907",
   "metadata": {},
   "source": [
    "#### Now, only 1 regressor 'hue' is left to explore therefore we directly add this to the model4 and display its \n",
    "#### t-statistic and p-value.\n"
   ]
  },
  {
   "cell_type": "code",
   "execution_count": 20,
   "id": "4400a3ad-4cd4-4d19-a946-5ad293c3c88a",
   "metadata": {},
   "outputs": [
    {
     "data": {
      "text/html": [
       "<div>\n",
       "<style scoped>\n",
       "    .dataframe tbody tr th:only-of-type {\n",
       "        vertical-align: middle;\n",
       "    }\n",
       "\n",
       "    .dataframe tbody tr th {\n",
       "        vertical-align: top;\n",
       "    }\n",
       "\n",
       "    .dataframe thead th {\n",
       "        text-align: right;\n",
       "    }\n",
       "</style>\n",
       "<table border=\"1\" class=\"dataframe\">\n",
       "  <thead>\n",
       "    <tr style=\"text-align: right;\">\n",
       "      <th></th>\n",
       "      <th>const</th>\n",
       "      <th>alcohol</th>\n",
       "      <th>color_intensity</th>\n",
       "      <th>hue</th>\n",
       "    </tr>\n",
       "  </thead>\n",
       "  <tbody>\n",
       "    <tr>\n",
       "      <th>T-STATISTIC</th>\n",
       "      <td>1.226875e+01</td>\n",
       "      <td>-8.276332e+00</td>\n",
       "      <td>3.896185</td>\n",
       "      <td>-8.168592e+00</td>\n",
       "    </tr>\n",
       "    <tr>\n",
       "      <th>P-VALUES</th>\n",
       "      <td>2.480711e-25</td>\n",
       "      <td>3.219030e-14</td>\n",
       "      <td>0.000139</td>\n",
       "      <td>6.148091e-14</td>\n",
       "    </tr>\n",
       "  </tbody>\n",
       "</table>\n",
       "</div>"
      ],
      "text/plain": [
       "                    const       alcohol  color_intensity           hue\n",
       "T-STATISTIC  1.226875e+01 -8.276332e+00         3.896185 -8.168592e+00\n",
       "P-VALUES     2.480711e-25  3.219030e-14         0.000139  6.148091e-14"
      ]
     },
     "execution_count": 20,
     "metadata": {},
     "output_type": "execute_result"
    }
   ],
   "source": [
    "## BUILDING THE MODEL INCLUDING THE HUE DIRECTLY IN THE MODEL \n",
    "Y = df.iloc[:, 3]\n",
    "X = df.iloc[:, [0,1,2]]\n",
    "\n",
    "## ## FITTING THE MODEL\n",
    "X = sm.add_constant(X)\n",
    "model5 = sm.OLS(Y, X).fit()\n",
    "\n",
    "\n",
    "## CREATING A DATAFRAME DISPLAYING THE T-STATISTIC VALUE AND P-VALUES OF THE REGRESSOR USED\n",
    "df3 = pd.DataFrame([model5.tvalues, model5.pvalues])\n",
    "df3.index = ['T-STATISTIC', 'P-VALUES']\n",
    "df3"
   ]
  },
  {
   "cell_type": "markdown",
   "id": "b272ca7e-4a4a-46af-ae2c-39e5664c8c19",
   "metadata": {},
   "source": [
    "#### Here, we add the hue in the final model as its p-value is much lesser than t_in value = 0.10."
   ]
  },
  {
   "cell_type": "markdown",
   "id": "ec8a81ce-1f69-4d0f-9792-8b4d47e6529d",
   "metadata": {},
   "source": [
    "#### Here model5 is our final model, Since both p-values are much smaller than 0.10 and the absolute value of \n",
    "#### t-statistics are very much large, both alcohol and hue are statistically significant and are retained in \n",
    "#### the final model."
   ]
  },
  {
   "cell_type": "markdown",
   "id": "76c7a14e-0bad-4925-bfa5-5eb7ac578a68",
   "metadata": {},
   "source": [
    "## B. BACKWARD STEPWISE REGRESSION"
   ]
  },
  {
   "cell_type": "markdown",
   "id": "5e78afb0-b0d8-401e-9fe0-2522576c31a5",
   "metadata": {},
   "source": [
    "#### PERFORMING VARIABLE SELECTION USING STEPWISE REGRESSION IN 3 DIFFERENT APPROACHES BELOW \n",
    "#### CONSIDERING THE THRESHOLD TO REMOVE A REGRESSOR FROM THE EXISTING MODEL (T_OUT) = 0.15."
   ]
  },
  {
   "cell_type": "code",
   "execution_count": 21,
   "id": "0166cf42-f0bf-415b-9839-01dfb217803e",
   "metadata": {},
   "outputs": [
    {
     "data": {
      "text/html": [
       "<div>\n",
       "<style scoped>\n",
       "    .dataframe tbody tr th:only-of-type {\n",
       "        vertical-align: middle;\n",
       "    }\n",
       "\n",
       "    .dataframe tbody tr th {\n",
       "        vertical-align: top;\n",
       "    }\n",
       "\n",
       "    .dataframe thead th {\n",
       "        text-align: right;\n",
       "    }\n",
       "</style>\n",
       "<table border=\"1\" class=\"dataframe\">\n",
       "  <thead>\n",
       "    <tr style=\"text-align: right;\">\n",
       "      <th></th>\n",
       "      <th>const</th>\n",
       "      <th>alcohol</th>\n",
       "      <th>color_intensity</th>\n",
       "      <th>hue</th>\n",
       "    </tr>\n",
       "  </thead>\n",
       "  <tbody>\n",
       "    <tr>\n",
       "      <th>T-STATISTIC</th>\n",
       "      <td>1.226875e+01</td>\n",
       "      <td>-8.276332e+00</td>\n",
       "      <td>3.896185</td>\n",
       "      <td>-8.168592e+00</td>\n",
       "    </tr>\n",
       "    <tr>\n",
       "      <th>P-VALUES</th>\n",
       "      <td>2.480711e-25</td>\n",
       "      <td>3.219030e-14</td>\n",
       "      <td>0.000139</td>\n",
       "      <td>6.148091e-14</td>\n",
       "    </tr>\n",
       "  </tbody>\n",
       "</table>\n",
       "</div>"
      ],
      "text/plain": [
       "                    const       alcohol  color_intensity           hue\n",
       "T-STATISTIC  1.226875e+01 -8.276332e+00         3.896185 -8.168592e+00\n",
       "P-VALUES     2.480711e-25  3.219030e-14         0.000139  6.148091e-14"
      ]
     },
     "execution_count": 21,
     "metadata": {},
     "output_type": "execute_result"
    }
   ],
   "source": [
    "## BUILDING THE MODEL INCLUDING ALL THE 3 REGRESSORS\n",
    "Y = df.iloc[:, 3]\n",
    "X = df.iloc[:, [0,1,2]]\n",
    "\n",
    "## ## FITTING THE MODEL\n",
    "X = sm.add_constant(X)\n",
    "model_1 = sm.OLS(Y, X).fit()\n",
    "\n",
    "\n",
    "## CREATING A DATAFRAME DISPLAYING THE T-STATISTIC VALUE AND P-VALUES OF THE REGRESSOR USED\n",
    "df1 = pd.DataFrame([model_1.tvalues, model_1.pvalues])\n",
    "df1.index = ['T-STATISTIC', 'P-VALUES']\n",
    "df1"
   ]
  },
  {
   "cell_type": "markdown",
   "id": "b90942ec-ea22-4030-a896-a9a1f16721c2",
   "metadata": {},
   "source": [
    "#### Here, as we can see that as p-value for each of the above used regressors are very smaller than the threshold\n",
    "#### t_out = 0.15, but for alcohol, the t-statistic value is much less than the t_out = 0.15, therefore, \n",
    "#### we eliminate alcohol, and proceed with remaining regressors in model building process."
   ]
  },
  {
   "cell_type": "code",
   "execution_count": 22,
   "id": "85933416-49eb-4bd5-8e25-beca56ba7807",
   "metadata": {},
   "outputs": [
    {
     "data": {
      "text/html": [
       "<div>\n",
       "<style scoped>\n",
       "    .dataframe tbody tr th:only-of-type {\n",
       "        vertical-align: middle;\n",
       "    }\n",
       "\n",
       "    .dataframe tbody tr th {\n",
       "        vertical-align: top;\n",
       "    }\n",
       "\n",
       "    .dataframe thead th {\n",
       "        text-align: right;\n",
       "    }\n",
       "</style>\n",
       "<table border=\"1\" class=\"dataframe\">\n",
       "  <thead>\n",
       "    <tr style=\"text-align: right;\">\n",
       "      <th></th>\n",
       "      <th>const</th>\n",
       "      <th>color_intensity</th>\n",
       "      <th>hue</th>\n",
       "    </tr>\n",
       "  </thead>\n",
       "  <tbody>\n",
       "    <tr>\n",
       "      <th>T-STATISTIC</th>\n",
       "      <td>1.043249e+01</td>\n",
       "      <td>-1.117411</td>\n",
       "      <td>-9.470848e+00</td>\n",
       "    </tr>\n",
       "    <tr>\n",
       "      <th>P-VALUES</th>\n",
       "      <td>4.040165e-20</td>\n",
       "      <td>0.265350</td>\n",
       "      <td>1.929378e-17</td>\n",
       "    </tr>\n",
       "  </tbody>\n",
       "</table>\n",
       "</div>"
      ],
      "text/plain": [
       "                    const  color_intensity           hue\n",
       "T-STATISTIC  1.043249e+01        -1.117411 -9.470848e+00\n",
       "P-VALUES     4.040165e-20         0.265350  1.929378e-17"
      ]
     },
     "execution_count": 22,
     "metadata": {},
     "output_type": "execute_result"
    }
   ],
   "source": [
    "## BUILDING THE MODEL INCLUDING THE REMAINING 2 REGRESSORS (COLOR_INTENSITY, HUE)\n",
    "Y = df.iloc[:, 3]\n",
    "X = df.iloc[:, [1,2]]\n",
    "\n",
    "## ## FITTING THE MODEL\n",
    "X = sm.add_constant(X)\n",
    "model_2 = sm.OLS(Y, X).fit()\n",
    "\n",
    "\n",
    "## CREATING A DATAFRAME DISPLAYING THE T-STATISTIC VALUE AND P-VALUES OF THE REGRESSOR USED\n",
    "df2 = pd.DataFrame([model_2.tvalues, model_2.pvalues])\n",
    "df2.index = ['T-STATISTIC', 'P-VALUES']\n",
    "df2"
   ]
  },
  {
   "cell_type": "markdown",
   "id": "eab795d7-d23f-4f9e-89c1-7fa69a29152b",
   "metadata": {},
   "source": [
    "#### Here, the p-value of color_intensity is much greater than the t_out = 0.15, threshold value, hence, we \n",
    "#### eliminate the color_intensity feature and proceed with hue in the next model building process."
   ]
  },
  {
   "cell_type": "code",
   "execution_count": 23,
   "id": "abf4a41b-da7d-44e3-8e2e-c07f64e3ad81",
   "metadata": {},
   "outputs": [
    {
     "data": {
      "text/html": [
       "<div>\n",
       "<style scoped>\n",
       "    .dataframe tbody tr th:only-of-type {\n",
       "        vertical-align: middle;\n",
       "    }\n",
       "\n",
       "    .dataframe tbody tr th {\n",
       "        vertical-align: top;\n",
       "    }\n",
       "\n",
       "    .dataframe thead th {\n",
       "        text-align: right;\n",
       "    }\n",
       "</style>\n",
       "<table border=\"1\" class=\"dataframe\">\n",
       "  <thead>\n",
       "    <tr style=\"text-align: right;\">\n",
       "      <th></th>\n",
       "      <th>const</th>\n",
       "      <th>hue</th>\n",
       "    </tr>\n",
       "  </thead>\n",
       "  <tbody>\n",
       "    <tr>\n",
       "      <th>T-STATISTIC</th>\n",
       "      <td>1.486934e+01</td>\n",
       "      <td>-1.041134e+01</td>\n",
       "    </tr>\n",
       "    <tr>\n",
       "      <th>P-VALUES</th>\n",
       "      <td>6.397187e-33</td>\n",
       "      <td>4.405399e-20</td>\n",
       "    </tr>\n",
       "  </tbody>\n",
       "</table>\n",
       "</div>"
      ],
      "text/plain": [
       "                    const           hue\n",
       "T-STATISTIC  1.486934e+01 -1.041134e+01\n",
       "P-VALUES     6.397187e-33  4.405399e-20"
      ]
     },
     "execution_count": 23,
     "metadata": {},
     "output_type": "execute_result"
    }
   ],
   "source": [
    "## BUILDING THE MODEL INCLUDING THE REMAINING 1 REGRESSOR (HUE)\n",
    "Y = df.iloc[:, 3]\n",
    "X = df.iloc[:, 2]\n",
    "\n",
    "## ## FITTING THE MODEL\n",
    "X = sm.add_constant(X)\n",
    "model_3 = sm.OLS(Y, X).fit()\n",
    "\n",
    "\n",
    "## CREATING A DATAFRAME DISPLAYING THE T-STATISTIC VALUE AND P-VALUES OF THE REGRESSOR USED\n",
    "df3 = pd.DataFrame([model_3.tvalues, model_3.pvalues])\n",
    "df3.index = ['T-STATISTIC', 'P-VALUES']\n",
    "df3"
   ]
  },
  {
   "cell_type": "markdown",
   "id": "39f97be6-5de7-482f-ad7b-3613cbcd83b7",
   "metadata": {},
   "source": [
    "#### Here, we get only 1 regressor (hue) in the final model as its p-value is much less than the threshold t_out =0.15.\n",
    "#### Hence, according to the backward stepwise process, model_3 is our final built model with only 1 regressor."
   ]
  },
  {
   "cell_type": "markdown",
   "id": "beb0d1a2-7314-4c64-bace-011b863b4860",
   "metadata": {},
   "source": [
    "### C. STEPWISE REGRESSION"
   ]
  },
  {
   "cell_type": "markdown",
   "id": "e4ee5787-0677-43b4-b627-883b60aac607",
   "metadata": {},
   "source": [
    "#### PERFORMING VARIABLE SELECTION USING STEPWISE REGRESSION IN 3 DIFFERENT APPROACHES BELOW \n",
    "#### CONSIDERING THE THRESHOLD TO RETAIN A REGRESSOR IN THE EXISTING MODEL (T_IN) = 0.2 ."
   ]
  },
  {
   "cell_type": "markdown",
   "id": "c1f7d343-8c90-4c27-8084-ac8eced39371",
   "metadata": {},
   "source": [
    "#### From the above correlation matrix we found that the correlation between the target and 'color_intensity'\n",
    "#### feature is maximum, therefore, we consider it as the candidate regressor and try the 1st model."
   ]
  },
  {
   "cell_type": "code",
   "execution_count": 24,
   "id": "83452c88-96a4-47ec-aa59-72ec38df8eae",
   "metadata": {},
   "outputs": [
    {
     "data": {
      "text/html": [
       "<div>\n",
       "<style scoped>\n",
       "    .dataframe tbody tr th:only-of-type {\n",
       "        vertical-align: middle;\n",
       "    }\n",
       "\n",
       "    .dataframe tbody tr th {\n",
       "        vertical-align: top;\n",
       "    }\n",
       "\n",
       "    .dataframe thead th {\n",
       "        text-align: right;\n",
       "    }\n",
       "</style>\n",
       "<table border=\"1\" class=\"dataframe\">\n",
       "  <thead>\n",
       "    <tr style=\"text-align: right;\">\n",
       "      <th></th>\n",
       "      <th>const</th>\n",
       "      <th>color_intensity</th>\n",
       "    </tr>\n",
       "  </thead>\n",
       "  <tbody>\n",
       "    <tr>\n",
       "      <th>T-STATISTIC</th>\n",
       "      <td>3.619017</td>\n",
       "      <td>3.655853</td>\n",
       "    </tr>\n",
       "    <tr>\n",
       "      <th>P-VALUES</th>\n",
       "      <td>0.000386</td>\n",
       "      <td>0.000338</td>\n",
       "    </tr>\n",
       "  </tbody>\n",
       "</table>\n",
       "</div>"
      ],
      "text/plain": [
       "                const  color_intensity\n",
       "T-STATISTIC  3.619017         3.655853\n",
       "P-VALUES     0.000386         0.000338"
      ]
     },
     "execution_count": 24,
     "metadata": {},
     "output_type": "execute_result"
    }
   ],
   "source": [
    "## CONSIDERING COLOR_INTENSITY AS THE REGRESSOR AND Y AS THE TARGET VARIABLE\n",
    "Y = df.iloc[:, 3]\n",
    "X = df.iloc[:, 1]\n",
    "\n",
    "## FITTING THE MODEL\n",
    "X = sm.add_constant(X)\n",
    "model1 = sm.OLS(Y, X).fit()\n",
    "\n",
    "\n",
    "## CREATING A DATAFRAME DISPLAYING THE T-STATISTIC VALUE AND P-VALUES OF THE REGRESSOR USED\n",
    "df1 = pd.DataFrame([model1.tvalues, model1.pvalues])\n",
    "df1.index = ['T-STATISTIC', 'P-VALUES']\n",
    "df1"
   ]
  },
  {
   "cell_type": "markdown",
   "id": "15a8c3e3-4055-4071-ba66-de2ce03dece0",
   "metadata": {},
   "source": [
    "#### Here, p-value of color_intensity is very much less than the t_in = 0.2, hence, we retain color_intensity in the model.\n",
    "#### Based, on the forward stepwise regression, we have already seen that the maximum partial correlation is between \n",
    "#### res_1 and res_2, hence, we can include the alcohol in the model."
   ]
  },
  {
   "cell_type": "code",
   "execution_count": 25,
   "id": "feba7182-2a6a-42ad-b5d9-4685a8409592",
   "metadata": {},
   "outputs": [
    {
     "data": {
      "text/html": [
       "<div>\n",
       "<style scoped>\n",
       "    .dataframe tbody tr th:only-of-type {\n",
       "        vertical-align: middle;\n",
       "    }\n",
       "\n",
       "    .dataframe tbody tr th {\n",
       "        vertical-align: top;\n",
       "    }\n",
       "\n",
       "    .dataframe thead th {\n",
       "        text-align: right;\n",
       "    }\n",
       "</style>\n",
       "<table border=\"1\" class=\"dataframe\">\n",
       "  <thead>\n",
       "    <tr style=\"text-align: right;\">\n",
       "      <th></th>\n",
       "      <th>const</th>\n",
       "      <th>alcohol</th>\n",
       "      <th>color_intensity</th>\n",
       "    </tr>\n",
       "  </thead>\n",
       "  <tbody>\n",
       "    <tr>\n",
       "      <th>T-STATISTIC</th>\n",
       "      <td>1.008475e+01</td>\n",
       "      <td>-9.573148e+00</td>\n",
       "      <td>8.999275e+00</td>\n",
       "    </tr>\n",
       "    <tr>\n",
       "      <th>P-VALUES</th>\n",
       "      <td>3.826021e-19</td>\n",
       "      <td>1.008731e-17</td>\n",
       "      <td>3.726674e-16</td>\n",
       "    </tr>\n",
       "  </tbody>\n",
       "</table>\n",
       "</div>"
      ],
      "text/plain": [
       "                    const       alcohol  color_intensity\n",
       "T-STATISTIC  1.008475e+01 -9.573148e+00     8.999275e+00\n",
       "P-VALUES     3.826021e-19  1.008731e-17     3.726674e-16"
      ]
     },
     "execution_count": 25,
     "metadata": {},
     "output_type": "execute_result"
    }
   ],
   "source": [
    "## BUILDING THE MODEL INCLUDING THE ALCOHOL IN THE MODEL_1\n",
    "Y = df.iloc[:, 3]\n",
    "X = df.iloc[:, [0,1]]\n",
    "\n",
    "## ## FITTING THE MODEL\n",
    "X = sm.add_constant(X)\n",
    "model4 = sm.OLS(Y, X).fit()\n",
    "\n",
    "\n",
    "## CREATING A DATAFRAME DISPLAYING THE T-STATISTIC VALUE AND P-VALUES OF THE REGRESSOR USED\n",
    "df2 = pd.DataFrame([model4.tvalues, model4.pvalues])\n",
    "df2.index = ['T-STATISTIC', 'P-VALUES']\n",
    "df2"
   ]
  },
  {
   "cell_type": "markdown",
   "id": "e96ae86a-9eb4-40d3-ad5f-3c5014da9f00",
   "metadata": {},
   "source": [
    "#### Here, we retain both these 2 regressors in the model as their p-values are lesser than the t_in = 0.2 .\n",
    "#### only 1 regressor hue is left, we build the model using hue."
   ]
  },
  {
   "cell_type": "code",
   "execution_count": 26,
   "id": "454e9be4-e5c5-4066-a57a-e269109e838c",
   "metadata": {},
   "outputs": [
    {
     "data": {
      "text/html": [
       "<div>\n",
       "<style scoped>\n",
       "    .dataframe tbody tr th:only-of-type {\n",
       "        vertical-align: middle;\n",
       "    }\n",
       "\n",
       "    .dataframe tbody tr th {\n",
       "        vertical-align: top;\n",
       "    }\n",
       "\n",
       "    .dataframe thead th {\n",
       "        text-align: right;\n",
       "    }\n",
       "</style>\n",
       "<table border=\"1\" class=\"dataframe\">\n",
       "  <thead>\n",
       "    <tr style=\"text-align: right;\">\n",
       "      <th></th>\n",
       "      <th>const</th>\n",
       "      <th>alcohol</th>\n",
       "      <th>color_intensity</th>\n",
       "      <th>hue</th>\n",
       "    </tr>\n",
       "  </thead>\n",
       "  <tbody>\n",
       "    <tr>\n",
       "      <th>T-STATISTIC</th>\n",
       "      <td>1.226875e+01</td>\n",
       "      <td>-8.276332e+00</td>\n",
       "      <td>3.896185</td>\n",
       "      <td>-8.168592e+00</td>\n",
       "    </tr>\n",
       "    <tr>\n",
       "      <th>P-VALUES</th>\n",
       "      <td>2.480711e-25</td>\n",
       "      <td>3.219030e-14</td>\n",
       "      <td>0.000139</td>\n",
       "      <td>6.148091e-14</td>\n",
       "    </tr>\n",
       "  </tbody>\n",
       "</table>\n",
       "</div>"
      ],
      "text/plain": [
       "                    const       alcohol  color_intensity           hue\n",
       "T-STATISTIC  1.226875e+01 -8.276332e+00         3.896185 -8.168592e+00\n",
       "P-VALUES     2.480711e-25  3.219030e-14         0.000139  6.148091e-14"
      ]
     },
     "execution_count": 26,
     "metadata": {},
     "output_type": "execute_result"
    }
   ],
   "source": [
    "## BUILDING THE MODEL INCLUDING THE HUE DIRECTLY IN THE MODEL \n",
    "Y = df.iloc[:, 3]\n",
    "X = df.iloc[:, [0,1,2]]\n",
    "\n",
    "## ## FITTING THE MODEL\n",
    "X = sm.add_constant(X)\n",
    "model5 = sm.OLS(Y, X).fit()\n",
    "\n",
    "\n",
    "## CREATING A DATAFRAME DISPLAYING THE T-STATISTIC VALUE AND P-VALUES OF THE REGRESSOR USED\n",
    "df3 = pd.DataFrame([model5.tvalues, model5.pvalues])\n",
    "df3.index = ['T-STATISTIC', 'P-VALUES']\n",
    "df3"
   ]
  },
  {
   "cell_type": "markdown",
   "id": "5737accd-c710-4574-bf86-ce2f8905a783",
   "metadata": {},
   "source": [
    "#### Here, we add the hue in the final model as its p-value is much lesser than t_in value = 0.2 .\n",
    "#### Here model5 is our final model, Since both p-values are much smaller than 0.2 and the absolute value of \n",
    "#### t-statistics are very much large, both alcohol and hue are statistically significant and are retained in \n",
    "#### the final model."
   ]
  },
  {
   "cell_type": "code",
   "execution_count": null,
   "id": "00879088-c8d9-4128-898d-80d1b8860362",
   "metadata": {},
   "outputs": [],
   "source": []
  }
 ],
 "metadata": {
  "kernelspec": {
   "display_name": "Python 3 (ipykernel)",
   "language": "python",
   "name": "python3"
  },
  "language_info": {
   "codemirror_mode": {
    "name": "ipython",
    "version": 3
   },
   "file_extension": ".py",
   "mimetype": "text/x-python",
   "name": "python",
   "nbconvert_exporter": "python",
   "pygments_lexer": "ipython3",
   "version": "3.12.7"
  }
 },
 "nbformat": 4,
 "nbformat_minor": 5
}
